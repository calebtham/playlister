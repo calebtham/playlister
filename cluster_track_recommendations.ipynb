{
 "cells": [
  {
   "cell_type": "code",
   "execution_count": 1,
   "metadata": {},
   "outputs": [],
   "source": [
    "# Read json file\n",
    "import json\n",
    "import numpy as np\n",
    "import requests\n",
    "import os\n",
    "import pandas as pd\n",
    "from sklearn import preprocessing\n",
    "from collections import Counter\n",
    "from sklearn.decomposition import PCA\n",
    "from sklearn.cluster import DBSCAN, KMeans\n",
    "from sklearn.metrics import silhouette_score, calinski_harabasz_score, davies_bouldin_score\n",
    "import matplotlib.pyplot as plt\n",
    "import warnings"
   ]
  },
  {
   "cell_type": "markdown",
   "metadata": {},
   "source": [
    "# Dataframe"
   ]
  },
  {
   "cell_type": "code",
   "execution_count": 2,
   "metadata": {},
   "outputs": [],
   "source": [
    "playlists = json.load(open('playlists.json', 'r'))\n",
    "tracks = json.load(open('track_features.json', 'r'))"
   ]
  },
  {
   "cell_type": "code",
   "execution_count": 3,
   "metadata": {},
   "outputs": [
    {
     "name": "stdout",
     "output_type": "stream",
     "text": [
      "['index', 'title', 'danceability', 'energy', 'loudness', 'mode', 'speechiness', 'acousticness', 'instrumentalness', 'liveness', 'valence', 'tempo', 'duration_ms', 'time_signature']\n"
     ]
    }
   ],
   "source": [
    "playlists_df = pd.read_csv('playlists.csv')\n",
    "playlists_df = playlists_df.drop(['key'], axis=1)\n",
    "\n",
    "# Train test split\n",
    "np.random.seed(42)\n",
    "msk = np.random.rand(len(playlists_df)) < 0.8\n",
    "playlists_df, test_playlists_df = playlists_df[msk], playlists_df[~msk]\n",
    "\n",
    "headers = playlists_df.columns.values.tolist()\n",
    "\n",
    "print(headers)\n",
    "\n",
    "mean = playlists_df[headers[2:]].mean(axis=0)\n",
    "std = playlists_df[headers[2:]].std(axis=0)\n",
    "\n",
    "playlists_df[headers[2:]] = (playlists_df[headers[2:]] - mean) / std\n",
    "test_playlists_df[headers[2:]] = (test_playlists_df[headers[2:]] - mean) / std\n",
    "\n",
    "cluster_headers = headers[2:]"
   ]
  },
  {
   "cell_type": "code",
   "execution_count": 4,
   "metadata": {},
   "outputs": [],
   "source": [
    "# playlists_df = pd.read_csv('playlists_embeddings.csv')\n",
    "# cols = ['danceability', 'energy', 'loudness', 'mode', 'speechiness',\n",
    "#         'acousticness', 'instrumentalness', 'liveness', 'valence', 'tempo',\n",
    "#         'duration_ms', 'time_signature']\n",
    "# playlists_df = playlists_df.drop(cols + ['key'], axis=1)\n",
    "\n",
    "# # Train test split\n",
    "# np.random.seed(42)\n",
    "# msk = np.random.rand(len(playlists_df)) < 0.8\n",
    "# playlists_df, test_playlists_df = playlists_df[msk], playlists_df[~msk]\n",
    "\n",
    "# headers = playlists_df.columns.values.tolist()\n",
    "\n",
    "# print(headers)\n",
    "\n",
    "# mean = playlists_df[headers[2:]].mean(axis=0)\n",
    "# std = playlists_df[headers[2:]].std(axis=0)\n",
    "\n",
    "# playlists_df[headers[2:]] = (playlists_df[headers[2:]] - mean) / std\n",
    "# test_playlists_df[headers[2:]] = (test_playlists_df[headers[2:]] - mean) / std\n",
    "\n",
    "# cluster_headers = headers[2:]"
   ]
  },
  {
   "cell_type": "markdown",
   "metadata": {},
   "source": [
    "# Clustering"
   ]
  },
  {
   "cell_type": "markdown",
   "metadata": {},
   "source": [
    "### K-means"
   ]
  },
  {
   "cell_type": "code",
   "execution_count": 5,
   "metadata": {},
   "outputs": [],
   "source": [
    "def get_cluster_tracks(playlists_df, cluster_preds, num_clusters, verbose=False):\n",
    "    global playlists, tracks\n",
    "    \n",
    "    playlists_clustered = playlists_df.get(['index', 'title']).copy()\n",
    "    playlists_clustered['cluster'] = cluster_preds\n",
    "\n",
    "    cluster_tracks = [{} for _ in range(num_clusters)]\n",
    "    for cluster in range(num_clusters):\n",
    "        for i in playlists_clustered[playlists_clustered['cluster'] == cluster]['index']:\n",
    "            for track in playlists[i][1]:\n",
    "                if track['track_uri'] not in cluster_tracks[cluster]:\n",
    "                    cluster_tracks[cluster][track['track_uri']] = track\n",
    "        cluster_tracks[cluster] = np.array(list(cluster_tracks[cluster].values()))\n",
    "\n",
    "        if verbose:\n",
    "            print('Cluster {}: {} tracks'.format(cluster, len(cluster_tracks[cluster])))\n",
    "\n",
    "    return cluster_tracks\n",
    "\n",
    "def cluster_custom_score(playlists_df, cluster_preds, num_clusters):\n",
    "    global tracks\n",
    "    \n",
    "    cluster_tracks = get_cluster_tracks(playlists_df, cluster_preds, num_clusters)\n",
    "\n",
    "    lengths = np.array([len(tracks) for tracks in cluster_tracks])\n",
    "\n",
    "    return np.sum(lengths) / len(tracks), \\\n",
    "        np.max(lengths) / len(tracks), \\\n",
    "        np.std(lengths) / np.mean(lengths)"
   ]
  },
  {
   "cell_type": "code",
   "execution_count": 6,
   "metadata": {},
   "outputs": [],
   "source": [
    "NUM_CLUSTERS = 50\n",
    "kmeans = KMeans(n_clusters=NUM_CLUSTERS, random_state=42, n_init='auto').fit(playlists_df[headers[2:]])"
   ]
  },
  {
   "cell_type": "code",
   "execution_count": 7,
   "metadata": {},
   "outputs": [],
   "source": [
    "# Group playlists by cluster\n",
    "playlists_df['cluster'] = kmeans.labels_\n",
    "playlists_clustered = playlists_df.get(['index', 'title', 'cluster'])"
   ]
  },
  {
   "cell_type": "code",
   "execution_count": 8,
   "metadata": {},
   "outputs": [
    {
     "name": "stdout",
     "output_type": "stream",
     "text": [
      "[('summer', 98), ('2017', 47), ('2016', 43), ('party', 42), ('music', 42), ('good', 40), ('new', 37), ('chill', 37), ('songs', 34), ('playlist', 34)]\n",
      "[('chill', 39), ('sleep', 21), ('the', 17), ('feels', 13), ('songs', 13), ('sad', 12), ('calm', 11), ('music', 10), ('mellow', 10), ('christmas', 8)]\n",
      "[('chill', 40), ('songs', 17), ('love', 17), ('good', 16), ('wedding', 14), ('new', 14), ('the', 12), ('summer', 12), ('playlist', 11), ('country', 11)]\n",
      "[('classical', 25), ('study', 12), ('music', 11), ('instrumental', 10), ('scores', 6), ('movie', 5), ('piano', 5), ('the', 5), ('of', 4), ('studying', 3)]\n",
      "[('rap', 95), ('workout', 57), ('party', 34), ('hop', 29), ('hype', 27), ('hip', 26), ('gym', 24), ('music', 23), ('up', 22), ('lit', 17)]\n",
      "[('rock', 46), ('punk', 38), ('pop', 23), ('my', 15), ('workout', 13), ('angst', 13), ('country', 12), ('songs', 10), ('running', 9), ('music', 9)]\n",
      "[('rock', 131), ('classic', 34), (\"90's\", 19), ('the', 17), ('90s', 15), ('music', 14), ('good', 12), ('alternative', 11), ('my', 10), ('playlist', 9)]\n",
      "[('comedy', 3), ('cardio', 1), ('stand', 1), ('up', 1), ('military', 1), ('funny', 1)]\n",
      "[('chill', 16), ('2016', 14), ('summer', 13), ('the', 13), ('of', 12), ('2015', 12), ('2017', 12), ('new', 11), ('best', 10), ('september', 9)]\n",
      "[('christmas', 41), ('music', 8), ('chill', 7), ('songs', 5), ('church', 5), ('time', 5), ('the', 4), ('feels', 4), ('slow', 4), ('oldies', 3)]\n",
      "[('summer', 38), ('playlist', 32), ('music', 31), ('songs', 29), ('good', 29), ('alternative', 25), ('rock', 25), ('jams', 24), ('2016', 20), ('chill', 20)]\n",
      "[('chill', 39), ('r&b', 31), ('slow', 22), ('jams', 19), ('summer', 17), ('good', 16), ('music', 15), ('2017', 15), ('love', 12), ('feels', 11)]\n",
      "[('workout', 51), ('music', 16), ('party', 15), ('gym', 13), ('dance', 12), ('pump', 12), ('songs', 11), ('up', 11), ('work', 8), ('new', 8)]\n",
      "[('country', 635), ('summer', 53), ('new', 23), ('music', 20), ('jams', 16), ('my', 15), ('songs', 13), ('the', 12), ('good', 12), ('playlist', 12)]\n",
      "[('classical', 24), ('meditation', 4), ('sleep', 3), ('study', 3), ('piano', 2), ('classy', 2), ('music', 2), ('brain', 2), ('songs', 2), ('classics', 2)]\n",
      "[('old', 37), ('hop', 28), ('throwback', 28), ('hip', 27), ('reggae', 25), ('school', 24), ('party', 23), ('rap', 19), ('jams', 16), ('dance', 13)]\n",
      "[('chill', 22), ('summer', 9), ('house', 8), ('new', 8), ('electro', 7), ('2016', 7), ('good', 6), ('dance', 6), ('-', 5), ('2017', 5)]\n",
      "[('chill', 37), ('vibes', 11), ('feels', 10), ('jams', 10), ('music', 9), ('r&b', 9), ('mood', 8), ('sex', 7), ('the', 7), ('songs', 7)]\n",
      "[('rap', 43), ('chill', 39), ('lit', 36), ('music', 28), ('summer', 26), ('playlist', 25), ('new', 24), ('good', 22), ('jams', 19), ('car', 19)]\n",
      "[('christmas', 86), ('oldies', 41), ('disney', 24), ('country', 17), ('old', 13), ('music', 10), ('songs', 9), ('holiday', 8), ('xmas', 7), ('classic', 7)]\n",
      "[('music', 9), ('piano', 6), ('instrumental', 6), ('the', 5), ('guys', 5), ('study', 5), ('epic', 5), ('soundtracks', 3), ('classical', 3), ('sleep', 3)]\n",
      "[('rock', 77), ('oldies', 66), ('classic', 57), ('classics', 43), ('old', 43), (\"80's\", 32), ('80s', 29), ('music', 26), ('the', 18), ('good', 16)]\n",
      "[('rap', 89), ('lit', 60), ('party', 41), ('music', 32), ('hype', 28), ('new', 26), ('up', 21), ('my', 20), ('songs', 18), ('workout', 17)]\n",
      "[('sleep', 1)]\n",
      "[('rock', 75), ('metal', 36), ('workout', 19), ('music', 11), ('new', 10), ('songs', 9), ('heavy', 8), ('hard', 8), ('my', 8), ('gym', 7)]\n",
      "[('corridos', 18), ('banda', 17), ('mexicano', 4), ('spanish', 3), ('ariel', 3), ('camacho', 3), ('🇲🇽', 3), ('julion', 2), ('musica', 2), ('2017', 2)]\n",
      "[('christmas', 63), ('songs', 13), ('love', 11), ('the', 9), ('wedding', 7), ('feels', 6), ('playlist', 5), ('2014', 5), ('music', 5), ('time', 4)]\n",
      "[('party', 42), ('dance', 31), ('throwback', 25), ('spanish', 21), ('workout', 19), ('throwbacks', 18), ('jams', 17), ('reggaeton', 17), ('old', 16), ('music', 16)]\n",
      "[('chill', 64), ('songs', 36), ('sad', 32), ('feels', 31), ('slow', 22), ('the', 20), ('love', 20), ('music', 19), ('you', 17), ('for', 16)]\n",
      "[('chill', 18), ('jazz', 4), ('beats', 4), ('2016', 4), ('instrumentals', 4), ('sleep', 4), ('la', 4), ('music', 3), ('drive', 3), ('e', 3)]\n",
      "[('chill', 58), ('summer', 29), ('good', 27), ('songs', 24), ('music', 23), ('playlist', 19), ('2017', 19), ('2016', 19), ('new', 19), ('2015', 18)]\n",
      "[('worship', 72), ('gospel', 13), ('jesus', 11), ('christian', 10), ('praise', 10), ('music', 8), ('prayer', 5), ('jams', 5), ('songs', 4), ('him', 4)]\n",
      "[('house', 11), ('techno', 5), ('trance', 3), ('music', 3), ('electronic', 3), ('edm', 3), ('electronica', 3), ('deep', 2), ('chill', 2), ('minimal', 2)]\n",
      "[('rap', 68), ('hop', 34), ('hip', 33), ('old', 27), ('school', 24), ('eminem', 19), ('kanye', 9), ('the', 8), ('chill', 6), ('real', 6)]\n",
      "[('edm', 45), ('workout', 33), ('summer', 23), ('party', 22), ('my', 17), ('dance', 16), ('chill', 14), ('music', 14), ('new', 14), ('up', 13)]\n",
      "[('salsa', 23), ('bachata', 21), ('80s', 19), ('reggae', 18), ('old', 17), ('funk', 16), ('school', 15), ('dance', 15), ('oldies', 14), ('spanish', 11)]\n",
      "[('sleep', 2), ('study', 1), ('free', 1), ('white', 1), ('noise', 1)]\n",
      "[('oldies', 55), ('country', 48), ('old', 22), ('mix', 14), ('music', 14), ('good', 13), ('awesome', 12), ('the', 12), ('christmas', 12), ('songs', 11)]\n",
      "[('edm', 25), ('dubstep', 20), ('playlist', 12), ('workout', 10), ('red', 8), ('bull', 8), ('editions', 8), ('trap', 7), ('the', 6), ('dance', 6)]\n",
      "[('throwback', 49), ('party', 48), ('summer', 36), ('playlist', 33), ('throwbacks', 30), ('music', 30), ('workout', 30), ('jams', 28), ('dance', 27), ('good', 25)]\n",
      "[('summer', 38), ('country', 35), ('good', 31), ('chill', 25), ('jams', 24), ('happy', 23), ('songs', 18), ('playlist', 17), ('vibes', 16), ('new', 15)]\n",
      "[('worship', 70), ('christian', 28), ('music', 23), ('jesus', 23), ('praise', 9), ('ballads', 4), ('for', 4), ('new', 3), ('the', 3), ('him', 3)]\n",
      "[('disney', 76), ('christmas', 37), ('musicals', 11), ('music', 8), ('oldies', 7), ('the', 7), ('songs', 6), ('classics', 5), ('jazz', 5), ('old', 5)]\n",
      "[('chill', 46), ('vibes', 15), ('feels', 13), ('new', 11), ('good', 10), ('mellow', 10), ('songs', 9), ('the', 8), ('love', 7), ('jams', 7)]\n",
      "[('the', 18), ('songs', 12), ('acoustic', 11), ('christmas', 10), ('chill', 8), ('music', 7), ('blues', 7), ('rock', 7), ('oldies', 6), ('of', 5)]\n",
      "[('study', 11), ('music', 9), ('sleep', 9), ('jazz', 8), ('classical', 6), ('piano', 5), ('instrumental', 5), ('wedding', 4), ('christmas', 4), ('sunday', 4)]\n",
      "[('country', 86), ('chill', 30), ('songs', 29), ('good', 21), ('love', 21), ('music', 20), ('new', 15), ('wedding', 14), ('my', 14), ('summer', 13)]\n",
      "[('gospel', 8), ('worship', 7), ('music', 5), ('songs', 4), ('praise', 4), ('christian', 3), ('church', 3), ('playlist', 3), ('new', 3), ('mayer', 2)]\n",
      "[('rock', 11), ('music', 9), ('halloween', 8), ('country', 8), ('classic', 7), ('the', 7), ('texas', 7), ('mix', 6), ('chill', 6), ('gospel', 5)]\n",
      "[('jazz', 25), ('sleep', 3), ('music', 2), ('feel', 2), ('good', 2), ('jazzy', 2), ('writing', 2), ('heart', 1), ('of', 1), ('gold', 1)]\n"
     ]
    }
   ],
   "source": [
    "# Count most common titles\n",
    "def count_words(titles):\n",
    "    words = []\n",
    "    for title in titles:\n",
    "        title = str(title).strip().lower()\n",
    "        words += title.split(\" \")\n",
    "    return Counter(words)\n",
    "\n",
    "\n",
    "for i in range(NUM_CLUSTERS):\n",
    "    print(count_words(\n",
    "        playlists_clustered[playlists_clustered['cluster'] == i]['title'].values.tolist()).most_common(10))"
   ]
  },
  {
   "cell_type": "markdown",
   "metadata": {},
   "source": [
    "# Test data"
   ]
  },
  {
   "cell_type": "code",
   "execution_count": 9,
   "metadata": {},
   "outputs": [
    {
     "name": "stdout",
     "output_type": "stream",
     "text": [
      "[('summer', 23), ('vibes', 12), ('new', 11), ('my', 11), ('songs', 11), ('2016', 10), ('good', 9), ('2017', 9), ('workout', 8), ('music', 7)]\n",
      "[('chill', 12), ('sleep', 6), ('sad', 5), ('songs', 5), ('calm', 5), ('acoustic', 4), ('feels', 4), ('new', 4), ('yoga', 4), ('music', 3)]\n",
      "[('chill', 18), ('wedding', 8), ('the', 4), ('good', 4), ('cocktail', 3), ('hour', 3), ('mix', 3), ('fall', 3), ('playlist', 3), ('stuff', 2)]\n",
      "[('study', 6), ('piano', 5), ('music', 4), ('soundtracks', 3), ('classical', 3), ('movie', 2), ('relaxation', 2), ('instrumental', 2), ('time', 2), ('yo', 2)]\n",
      "[('rap', 29), ('workout', 15), ('party', 12), ('up', 9), ('playlist', 6), ('lit', 6), ('game', 6), ('music', 5), ('jams', 5), ('hip', 5)]\n",
      "[('punk', 10), ('workout', 9), ('rock', 4), ('my', 4), ('high-intensity', 4), ('throwback', 4), ('music', 3), ('good', 3), ('for', 3), ('pop', 3)]\n",
      "[('rock', 24), ('90s', 6), ('alternative', 5), ('playlist', 5), ('the', 5), ('stuff', 4), ('music', 3), ('songs', 3), ('of', 3), ('christian', 3)]\n",
      "[('comedy', 3)]\n",
      "[('2015', 6), ('2016', 6), ('new', 4), ('stuff', 4), ('spring', 4), ('good', 4), ('2017', 3), ('winter', 3), ('2013', 3), ('run', 3)]\n",
      "[('christmas', 10), ('waltz', 4), ('music', 3), ('songs', 2), ('party', 2), ('christmas!', 2), ('christmastime', 1), ('sleep', 1), ('opera', 1), ('the', 1)]\n",
      "[('rock', 13), ('summer', 12), ('playlist', 10), ('2016', 8), ('jams', 7), ('alternative', 6), ('indie', 5), ('songs', 5), ('car', 5), ('chill', 5)]\n",
      "[('chill', 11), ('playlist', 6), ('r&b', 6), ('feels', 5), ('2017', 5), ('new', 4), ('my', 4), ('vibes', 3), ('soul', 3), ('music', 3)]\n",
      "[('workout', 10), ('party', 4), ('running', 4), ('up', 4), ('spring', 4), ('playlist', 3), ('pump', 3), ('jams', 3), ('run', 3), ('songs', 3)]\n",
      "[('country', 146), ('summer', 8), ('new', 6), ('good', 5), ('music', 5), ('90s', 3), ('❤️', 3), ('stuff', 3), ('a', 3), ('jams', 3)]\n",
      "[('classical', 4), ('music', 3), ('study', 2), ('ambient', 2), ('band', 1), ('favorites', 1), ('phoenix', 1), ('massage', 1), ('orchestral', 1), ('time', 1)]\n",
      "[('party', 11), ('old', 9), ('reggae', 7), ('school', 7), ('workout', 6), ('throwback', 6), ('throwbacks', 5), ('2000s', 5), ('dance', 4), ('pregame', 3)]\n",
      "[('chill', 5), ('house', 5), ('2016', 3), ('2017', 2), ('edm', 2), ('new', 2), ('may', 2), ('deep', 2), ('summer', 2), ('2013', 2)]\n",
      "[('chill', 12), ('slow', 6), ('music', 4), ('mix', 3), ('sexy', 3), ('the', 3), ('vibes', 3), ('2017', 2), ('mood', 2), ('justin', 2)]\n",
      "[('rap', 10), ('2017', 10), ('summer', 9), ('chill', 8), ('jams', 7), ('lit', 7), ('2016', 6), ('music', 6), ('new', 5), ('songs', 5)]\n",
      "[('christmas', 20), ('disney', 5), ('kids', 5), ('oldies', 4), ('music', 3), ('country', 3), ('wedding', 3), ('goodies', 2), ('blues', 2), ('party', 2)]\n",
      "[('movie', 2), ('study', 2), ('writing', 2), ('the', 2), ('video', 2), ('epic', 2), ('classic', 2), ('discover', 1), ('scores', 1), ('themes', 1)]\n",
      "[('rock', 20), ('oldies', 16), ('classic', 15), ('classics', 13), (\"80's\", 11), ('the', 10), ('old', 8), ('good', 6), ('of', 5), ('but', 4)]\n",
      "[('rap', 26), ('lit', 16), ('party', 7), ('music', 7), ('🔥🔥', 6), ('school', 6), ('playlist', 6), ('summer', 6), ('up', 5), ('hype', 5)]\n",
      "[]\n",
      "[('rock', 15), ('songs', 4), ('metal', 3), ('gym', 3), ('mix', 3), ('workout', 3), ('feels', 3), ('heavy', 2), ('the', 2), ('playlist', 2)]\n",
      "[('corridos', 8), ('banda', 6), ('sierreño', 1), ('paisa', 1), ('👌👌👌', 1), ('canciones', 1), ('alma', 1), ('spanish', 1), ('playlist', 1), ('narco', 1)]\n",
      "[('christmas', 16), ('songs', 6), ('love', 4), ('music', 4), ('sad', 3), ('i', 2), ('you', 2), ('my', 2), ('wedding', 2), ('time', 2)]\n",
      "[('party', 10), ('dance', 9), ('throwback', 7), ('music', 6), ('throwbacks', 6), ('spanish', 5), ('songs', 5), ('español', 4), ('reggaeton', 4), ('out', 4)]\n",
      "[('chill', 17), ('songs', 10), ('sad', 8), ('sleep', 8), ('the', 6), ('feels', 6), ('love', 5), ('my', 3), ('2015', 3), ('study', 3)]\n",
      "[('chill', 9), ('v', 2), ('a', 2), ('tango', 2), ('october', 2), ('indie', 1), ('lindsey', 1), ('stirling', 1), ('funk', 1), ('classical', 1)]\n",
      "[('chill', 12), ('good', 11), ('summer', 8), ('2016', 7), ('2017', 6), ('new', 6), ('playlist', 5), ('songs', 5), ('vibes', 5), ('april', 4)]\n",
      "[('worship', 19), ('gospel', 4), ('music', 3), ('christian', 3), ('jesus', 3), ('my', 2), ('church', 2), ('jams', 2), ('me', 1), ('like', 1)]\n",
      "[('electronic', 2), ('silk', 1), ('cool', 1), ('beans', 1), ('chilllllll', 1), ('loved', 1), ('tracks', 1), ('em', 1), ('#boostyourrun', 1), ('red', 1)]\n",
      "[('rap', 12), ('hop', 9), ('hip', 8), ('old', 5), ('school', 4), ('all', 3), ('2pac', 3), ('new', 2), ('the', 2), ('booty', 2)]\n",
      "[('edm', 16), ('workout', 10), ('music', 6), ('summer', 6), ('dance', 6), ('best', 4), ('chill', 4), ('gym', 4), ('new', 4), ('get', 3)]\n",
      "[('salsa', 11), ('reggae', 5), ('bachata', 5), ('80s', 5), ('music', 5), ('cumbias', 5), ('spanish', 4), ('jams', 4), ('funk', 4), ('island', 4)]\n",
      "[]\n",
      "[('oldies', 16), ('country', 12), ('good', 6), ('playlist', 5), ('the', 4), ('classics', 4), ('old', 3), ('songs', 2), ('2015', 2), ('dad', 2)]\n",
      "[('edm', 11), ('workout', 5), ('dubstep', 4), ('beats', 4), ('bass', 3), ('hard', 3), ('trap', 3), ('house', 2), ('electronic', 2), ('beat', 2)]\n",
      "[('party', 14), ('summer', 13), ('workout', 9), ('songs', 8), ('throwbacks', 8), ('work', 8), ('dance', 7), ('good', 7), ('throwback', 7), ('jams', 6)]\n",
      "[('summer', 13), ('country', 10), ('songs', 7), ('new', 6), ('chill', 6), ('shower', 5), ('road', 5), ('playlist', 5), ('good', 5), ('2017', 5)]\n",
      "[('worship', 14), ('christian', 9), ('music', 7), ('jesus', 6), ('songs', 3), ('love', 2), ('favorite', 1), ('coke', 1), ('studio', 1), ('sex', 1)]\n",
      "[('disney', 15), ('christmas', 13), ('ho', 3), ('dinner', 2), ('party', 2), ('mad', 2), ('men', 2), ('musicals', 2), ('time', 2), ('la', 2)]\n",
      "[('chill', 12), ('slow', 4), ('jams', 3), ('feels', 3), ('yoga', 2), ('jamz', 2), ('the', 2), ('depression', 2), ('vibes', 2), ('deep', 2)]\n",
      "[('chill', 4), ('songs', 3), ('rock', 3), ('musicals', 3), ('christmas', 3), ('oldies', 3), ('country', 2), ('old', 2), ('soul', 2), ('musical', 2)]\n",
      "[('instrumental', 4), ('study', 4), ('classical', 3), ('sleep', 3), ('music', 2), ('frozen', 1), ('–', 1), ('peace', 1), ('out', 1), ('sad', 1)]\n",
      "[('country', 30), ('love', 10), ('music', 9), ('songs', 7), ('chill', 6), ('wedding', 5), ('2016', 5), ('favorites', 4), ('feels', 4), ('fall', 4)]\n",
      "[('jesus', 2), ('gospel', 2), ('jams', 1), ('country', 1), ('culture', 1), ('chill', 1), ('church', 1), ('songs', 1), ('live', 1), ('musica', 1)]\n",
      "[('rock', 7), ('new', 3), ('halloween', 3), ('country', 3), ('classic', 2), ('español', 2), ('lista', 2), ('oficial', 2), ('sense8', 2), ('suicide', 2)]\n",
      "[('jazz', 4), ('thai', 1), ('ceremony', 1), ('miles', 1), ('davis', 1), ('in', 1), ('a', 1), ('sentimental', 1), ('mood', 1), ('sleep', 1)]\n"
     ]
    }
   ],
   "source": [
    "test_playlists_df['cluster'] = kmeans.predict(test_playlists_df[headers[2:]])\n",
    "test_playlists_clustered = test_playlists_df.get(['index', 'title', 'cluster'])\n",
    "\n",
    "for i in range(NUM_CLUSTERS):\n",
    "    print(count_words(\n",
    "        test_playlists_clustered[test_playlists_clustered['cluster'] == i]['title'].values.tolist()).most_common(10))"
   ]
  },
  {
   "cell_type": "markdown",
   "metadata": {},
   "source": [
    "# Get recommendations (for test playlists)"
   ]
  },
  {
   "cell_type": "code",
   "execution_count": 10,
   "metadata": {},
   "outputs": [],
   "source": [
    "track_popularity = json.load(open('track_popularity.json', 'r'))"
   ]
  },
  {
   "cell_type": "markdown",
   "metadata": {},
   "source": [
    "K-nn is always based on Spotify features"
   ]
  },
  {
   "cell_type": "code",
   "execution_count": 11,
   "metadata": {},
   "outputs": [
    {
     "name": "stdout",
     "output_type": "stream",
     "text": [
      "['index', 'title', 'danceability', 'energy', 'loudness', 'mode', 'speechiness', 'acousticness', 'instrumentalness', 'liveness', 'valence', 'tempo', 'duration_ms', 'time_signature', 'popularity']\n"
     ]
    }
   ],
   "source": [
    "playlists_clusters = playlists_df['cluster'].copy()\n",
    "test_playlists_clusters = test_playlists_df['cluster'].copy()\n",
    "\n",
    "playlists_df = pd.read_csv('playlists_popularity.csv')\n",
    "playlists_df = playlists_df.drop(['key'], axis=1)\n",
    "cols = ['danceability', 'energy', 'loudness', 'mode', 'speechiness',\n",
    "        'acousticness', 'instrumentalness', 'liveness', 'valence', 'tempo',\n",
    "        'duration_ms', 'time_signature']\n",
    "playlists_df, test_playlists_df = playlists_df[msk], playlists_df[~msk]\n",
    "\n",
    "headers = playlists_df.columns.values.tolist()\n",
    "\n",
    "print(headers)\n",
    "\n",
    "mean = playlists_df[headers[2:]].mean(axis=0)\n",
    "std = playlists_df[headers[2:]].std(axis=0)\n",
    "\n",
    "playlists_df[headers[2:]] = (playlists_df[headers[2:]] - mean) / std\n",
    "test_playlists_df[headers[2:]] = (test_playlists_df[headers[2:]] - mean) / std\n",
    "\n",
    "playlists_df = pd.concat((playlists_df, playlists_clusters), axis=1)\n",
    "test_playlists_df = pd.concat((test_playlists_df, test_playlists_clusters), axis=1)"
   ]
  },
  {
   "cell_type": "code",
   "execution_count": 12,
   "metadata": {},
   "outputs": [],
   "source": [
    "mean = mean[:len(cols)]\n",
    "std = std[:len(cols)]"
   ]
  },
  {
   "cell_type": "markdown",
   "metadata": {},
   "source": [
    "The challenge for the **input** only withholds a constant number of tracks. For simplicity, **we just withhold half the playlist.**\n",
    "\n",
    "The challenge **output** requires a **list of 500 recommended candidate tracks**, ordered by relevance in decreasing order. We omit the ordering since we do not evaluate the ordering."
   ]
  },
  {
   "cell_type": "code",
   "execution_count": 13,
   "metadata": {},
   "outputs": [],
   "source": [
    "cluster_tracks = get_cluster_tracks(playlists_df, playlists_df['cluster'], NUM_CLUSTERS)\n",
    "\n",
    "PART_PERCENT = 0.5 # Percentage of playlist to use for clustering"
   ]
  },
  {
   "cell_type": "code",
   "execution_count": 14,
   "metadata": {},
   "outputs": [],
   "source": [
    "def get_playlist_features(playlist_tracks, mean=mean, std=std):\n",
    "    features = [np.mean([track[col] for track in playlist_tracks]) for col in cols]\n",
    "    return np.array((features - mean) / std)\n",
    "\n",
    "def get_track_info(tracks):\n",
    "    return np.array([[s['artist_name'], s['track_name']] for s in tracks])\n",
    "\n",
    "def get_track_features(tracks, mean=mean, std=std, hashmap=False):\n",
    "    if hashmap:\n",
    "        features = {uri: [tracks[uri][col] for col in cols] for uri in tracks}\n",
    "        return {uri: np.array((f - mean) / std) for uri, f in features.items()}\n",
    "\n",
    "    features = np.array([[s[col] for col in cols] for s in tracks])\n",
    "    return np.array((features - np.array(mean)) / np.array(std))"
   ]
  },
  {
   "cell_type": "code",
   "execution_count": 15,
   "metadata": {},
   "outputs": [],
   "source": [
    "def k_nn(k, needle_features, haystack_features):\n",
    "    \"\"\"\n",
    "    Given an instance of features, find the k nearest neighbors in the haystack. \n",
    "    Return indexes within haystack.\n",
    "    \"\"\"\n",
    "    distances = np.linalg.norm(needle_features - haystack_features, axis=1)\n",
    "    return np.argsort(distances)[:k]"
   ]
  },
  {
   "cell_type": "code",
   "execution_count": 16,
   "metadata": {},
   "outputs": [],
   "source": [
    "def r_precision(pred_tracks: set, target_tracks: set):\n",
    "    return len(pred_tracks.intersection(target_tracks)) / len(target_tracks)"
   ]
  },
  {
   "cell_type": "code",
   "execution_count": 17,
   "metadata": {},
   "outputs": [],
   "source": [
    "def popularity(pred_tracks: set):\n",
    "    return np.mean([track_popularity[track] for track in pred_tracks])"
   ]
  },
  {
   "cell_type": "markdown",
   "metadata": {},
   "source": [
    "K-nn to find nearest playlists (then randomly sample tracks)"
   ]
  },
  {
   "cell_type": "code",
   "execution_count": 18,
   "metadata": {},
   "outputs": [],
   "source": [
    "def nearest_playlists_predictions(init_tracks, target_tracks, playlist_part_features, part_cluster):\n",
    "    pred_tracks = init_tracks.copy()\n",
    "    \n",
    "    haystack_playlists = playlists_df[playlists_df['cluster'] == part_cluster] \n",
    "    haystack_features = haystack_playlists[cols].values\n",
    "\n",
    "    for i in k_nn(500 + len(init_tracks), playlist_part_features, haystack_features):\n",
    "        pred_playlist = haystack_playlists.iloc[i]\n",
    "        i = pred_playlist['index']\n",
    "        \n",
    "        for uri in [track['track_uri'] for track in playlists[i][1]]:\n",
    "            pred_tracks.add(uri)\n",
    "\n",
    "            if len(pred_tracks) >= 500 + len(init_tracks):\n",
    "                break\n",
    "\n",
    "        if len(pred_tracks) >= 500 + len(init_tracks):\n",
    "            break\n",
    "\n",
    "    pred_tracks = pred_tracks - init_tracks\n",
    "\n",
    "    return r_precision(pred_tracks, target_tracks), popularity(pred_tracks)"
   ]
  },
  {
   "cell_type": "markdown",
   "metadata": {},
   "source": [
    "K-NN to find tracks nearest to playlist aggregate features"
   ]
  },
  {
   "cell_type": "code",
   "execution_count": 19,
   "metadata": {},
   "outputs": [],
   "source": [
    "def nearest_aggregate_predictions(init_tracks, target_tracks, playlist_part_features, tracks_in_cluster, track_features):\n",
    "    pred_tracks = init_tracks.copy()\n",
    "    \n",
    "    for i in k_nn(500 + len(init_tracks), playlist_part_features, track_features):\n",
    "        pred_tracks.add(tracks_in_cluster[i]['track_uri'])\n",
    "\n",
    "        if len(pred_tracks) >= 500 + len(init_tracks):\n",
    "            break\n",
    "\n",
    "    pred_tracks = pred_tracks - init_tracks\n",
    "\n",
    "    return r_precision(pred_tracks, target_tracks), popularity(pred_tracks)"
   ]
  },
  {
   "cell_type": "markdown",
   "metadata": {},
   "source": [
    "K-NN to find tracks nearest to random tracks in playlist"
   ]
  },
  {
   "cell_type": "code",
   "execution_count": 20,
   "metadata": {},
   "outputs": [],
   "source": [
    "def nearest_track_predictions(init_tracks, target_tracks, playlist_part_tracks, tracks_in_cluster, track_features, all_track_features_dict):\n",
    "    pred_tracks = init_tracks.copy()\n",
    "    \n",
    "    playlist_track_features = [all_track_features_dict[track['track_uri']] for track in playlist_part_tracks]\n",
    "    playlist_track_nn = [k_nn(len(track_features), features, track_features) for features in playlist_track_features] # bottleneck\n",
    "\n",
    "    for i in range(500):\n",
    "        for track_nn in playlist_track_nn:\n",
    "            if i >= len(track_nn):\n",
    "                continue\n",
    "\n",
    "            pred_tracks.add(tracks_in_cluster[track_nn[i]]['track_uri'])\n",
    "\n",
    "            if len(pred_tracks) >= 500 + len(init_tracks):\n",
    "                break\n",
    "\n",
    "        if len(pred_tracks) >= 500 + len(init_tracks):\n",
    "            break\n",
    "\n",
    "    pred_tracks = pred_tracks - init_tracks\n",
    "\n",
    "    return r_precision(pred_tracks, target_tracks), popularity(pred_tracks)"
   ]
  },
  {
   "cell_type": "code",
   "execution_count": 21,
   "metadata": {},
   "outputs": [],
   "source": [
    "cluster_track_features = [get_track_features(cluster_tracks[i]) for i in range(NUM_CLUSTERS)]\n",
    "all_track_features_dict = get_track_features(tracks, hashmap=True)"
   ]
  },
  {
   "cell_type": "code",
   "execution_count": 22,
   "metadata": {},
   "outputs": [
    {
     "name": "stdout",
     "output_type": "stream",
     "text": [
      "R-precision: 22.83%, popularity: 34.70\n",
      "R-precision: 3.92%, popularity: 25.68\n",
      "R-precision: 4.65%, popularity: 26.50\n"
     ]
    }
   ],
   "source": [
    "playlists_predictions_score = 0\n",
    "aggregate_predictions_score = 0\n",
    "track_predictions_score = 0\n",
    "playlists_predictions_popularity = 0\n",
    "aggregate_predictions_popularity = 0\n",
    "track_predictions_popularity = 0\n",
    "\n",
    "num_test = len(test_playlists_df)\n",
    "\n",
    "for test_i in range(num_test):\n",
    "\n",
    "    i = test_playlists_df.iloc[test_i]['index']\n",
    "\n",
    "    playlist_name = playlists[i][0]\n",
    "    playlist_tracks = playlists[i][1]\n",
    "    np.random.shuffle(playlist_tracks)\n",
    "\n",
    "    playlist_part_tracks = playlist_tracks[:int(\n",
    "        len(playlists[i][1]) * PART_PERCENT)]\n",
    "\n",
    "    playlist_part_features = get_playlist_features(playlist_part_tracks)\n",
    "\n",
    "    playlist_features = np.array(\n",
    "        test_playlists_df.iloc[test_i][headers[2:]].values, dtype='float32')\n",
    "\n",
    "    with warnings.catch_warnings():\n",
    "        warnings.simplefilter(\"ignore\")\n",
    "        part_cluster = kmeans.predict([test_playlists_df.iloc[test_i][cluster_headers]])[0]\n",
    "\n",
    "    tracks_in_cluster = cluster_tracks[part_cluster]\n",
    "    track_features = cluster_track_features[part_cluster]\n",
    "\n",
    "    init_tracks = set([track['track_uri'] for track in playlist_part_tracks])\n",
    "    target_tracks = set([track['track_uri']\n",
    "                        for track in playlist_tracks]) - init_tracks\n",
    "\n",
    "    t1, t2 = nearest_playlists_predictions(\n",
    "        init_tracks, target_tracks, playlist_part_features, part_cluster)\n",
    "    playlists_predictions_score += t1\n",
    "    playlists_predictions_popularity += t2\n",
    "\n",
    "    t1, t2 = nearest_aggregate_predictions(\n",
    "        init_tracks, target_tracks, playlist_part_features, tracks_in_cluster, track_features)\n",
    "    aggregate_predictions_score += t1\n",
    "    aggregate_predictions_popularity += t2\n",
    "\n",
    "    t1, t2 = nearest_track_predictions(\n",
    "        init_tracks, target_tracks, playlist_part_tracks, tracks_in_cluster, track_features, all_track_features_dict)\n",
    "    track_predictions_score += t1\n",
    "    track_predictions_popularity += t2\n",
    "    \n",
    "print(f'R-precision: {100 * playlists_predictions_score / num_test:.2f}%, popularity: {playlists_predictions_popularity / num_test:.2f}')\n",
    "print(f'R-precision: {100 * aggregate_predictions_score / num_test:.2f}%, popularity: {aggregate_predictions_popularity / num_test:.2f}')\n",
    "print(f'R-precision: {100 * track_predictions_score / num_test:.2f}%, popularity: {track_predictions_popularity / num_test:.2f}')\n",
    "\n"
   ]
  }
 ],
 "metadata": {
  "kernelspec": {
   "display_name": "venv",
   "language": "python",
   "name": "python3"
  },
  "language_info": {
   "codemirror_mode": {
    "name": "ipython",
    "version": 3
   },
   "file_extension": ".py",
   "mimetype": "text/x-python",
   "name": "python",
   "nbconvert_exporter": "python",
   "pygments_lexer": "ipython3",
   "version": "3.11.4"
  }
 },
 "nbformat": 4,
 "nbformat_minor": 2
}

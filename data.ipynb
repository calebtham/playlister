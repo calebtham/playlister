{
 "cells": [
  {
   "cell_type": "markdown",
   "metadata": {},
   "source": [
    "## Imports"
   ]
  },
  {
   "cell_type": "code",
   "execution_count": 1,
   "metadata": {},
   "outputs": [],
   "source": [
    "# Read json file\n",
    "import json\n",
    "import numpy as np\n",
    "import requests\n",
    "import os\n",
    "import pandas as pd"
   ]
  },
  {
   "cell_type": "markdown",
   "metadata": {},
   "source": [
    "## Get playlist from `spotify_million_playlist_dataset`\n",
    "\n",
    "Get only the playlist name and tracks"
   ]
  },
  {
   "cell_type": "code",
   "execution_count": 2,
   "metadata": {},
   "outputs": [
    {
     "data": {
      "text/plain": [
       "30000"
      ]
     },
     "execution_count": 2,
     "metadata": {},
     "output_type": "execute_result"
    }
   ],
   "source": [
    "playlists = []\n",
    "\n",
    "for i in range(30000, 60000, 1000):\n",
    "    with open(f'spotify_million_playlist_dataset/data/mpd.slice.{i}-{i+999}.json') as f:\n",
    "        data = json.load(f)\n",
    "    playlists.extend([[playlist['name'], playlist['tracks']] for playlist in data['playlists']])\n",
    "\n",
    "len(playlists)"
   ]
  },
  {
   "cell_type": "markdown",
   "metadata": {},
   "source": [
    "## Get all tracks' features\n",
    "\n",
    "Using the Spotify API"
   ]
  },
  {
   "cell_type": "code",
   "execution_count": 3,
   "metadata": {},
   "outputs": [],
   "source": [
    "from dotenv import load_dotenv\n",
    "load_dotenv()\n",
    "token = os.getenv('SPOTIFY_TOKEN')"
   ]
  },
  {
   "cell_type": "code",
   "execution_count": 4,
   "metadata": {},
   "outputs": [],
   "source": [
    "def get_audio_features(track_uris):\n",
    "    return requests.get(\n",
    "        \"https://api.spotify.com/v1/audio-features?ids=\" + \\\n",
    "            \",\".join([uri.split(':')[-1] for uri in  track_uris[:100]]),\n",
    "        headers={\"Authorization\": f\"Bearer {token}\"}\n",
    "    ).json()['audio_features']"
   ]
  },
  {
   "cell_type": "code",
   "execution_count": 7,
   "metadata": {},
   "outputs": [],
   "source": [
    "track_features = json.load(open('track_features.json'))"
   ]
  },
  {
   "cell_type": "code",
   "execution_count": 9,
   "metadata": {},
   "outputs": [
    {
     "name": "stdout",
     "output_type": "stream",
     "text": [
      "513068\n"
     ]
    }
   ],
   "source": [
    "for playlist_title, playlist_tracks in playlists:\n",
    "    for track in playlist_tracks:\n",
    "        if track['track_uri'] not in track_features:\n",
    "            track_features[track['track_uri']] = False\n",
    "\n",
    "print(len(track_features))"
   ]
  },
  {
   "cell_type": "code",
   "execution_count": 10,
   "metadata": {},
   "outputs": [
    {
     "name": "stdout",
     "output_type": "stream",
     "text": [
      "175384\n"
     ]
    }
   ],
   "source": [
    "track_uris = [uri for uri, value in track_features.items() if value == False]\n",
    "print(len(track_uris))"
   ]
  },
  {
   "cell_type": "code",
   "execution_count": 28,
   "metadata": {},
   "outputs": [
    {
     "name": "stdout",
     "output_type": "stream",
     "text": [
      "'audio_features'\n",
      "62500 failed\n"
     ]
    }
   ],
   "source": [
    "try:\n",
    "    for i in range(62500, len(track_uris), 100):\n",
    "\n",
    "        batch = track_uris[i:i+100]\n",
    "        track_features.update(\n",
    "            {uri: features for uri, features in zip(batch, get_audio_features(batch))})\n",
    "        \n",
    "        print(f\"{i} / {len(track_uris)}\")\n",
    "        \n",
    "except Exception as e:\n",
    "    print(e)\n",
    "    print(f\"{i} failed\")"
   ]
  },
  {
   "cell_type": "code",
   "execution_count": 137,
   "metadata": {},
   "outputs": [],
   "source": [
    "assert all(len(track)==18 for track in track_features.values())"
   ]
  },
  {
   "cell_type": "code",
   "execution_count": 138,
   "metadata": {},
   "outputs": [],
   "source": [
    "json.dump(track_features, open('track_features.json', 'w'))"
   ]
  },
  {
   "cell_type": "markdown",
   "metadata": {},
   "source": [
    "## Clean the data"
   ]
  },
  {
   "cell_type": "markdown",
   "metadata": {},
   "source": [
    "### Remove unnecessary columns of track features"
   ]
  },
  {
   "cell_type": "code",
   "execution_count": 22,
   "metadata": {},
   "outputs": [],
   "source": [
    "cols = ['danceability', 'energy', 'key', 'loudness', 'mode', 'speechiness',\n",
    "        'acousticness', 'instrumentalness', 'liveness', 'valence', 'tempo',\n",
    "        'duration_ms', 'time_signature']"
   ]
  },
  {
   "cell_type": "code",
   "execution_count": 140,
   "metadata": {},
   "outputs": [],
   "source": [
    "track_features_clean = {uri: {col: track[col] for col in cols} \n",
    "                        for uri, track in track_features.items()}"
   ]
  },
  {
   "cell_type": "code",
   "execution_count": 141,
   "metadata": {},
   "outputs": [],
   "source": [
    "json.dump(track_features_clean, open('track_features_clean.json', 'w'))"
   ]
  },
  {
   "cell_type": "markdown",
   "metadata": {},
   "source": [
    "### Reformat playlists"
   ]
  },
  {
   "cell_type": "code",
   "execution_count": 9,
   "metadata": {},
   "outputs": [],
   "source": [
    "track_features_clean = json.load(open('track_features_clean.json'))"
   ]
  },
  {
   "cell_type": "code",
   "execution_count": 12,
   "metadata": {},
   "outputs": [],
   "source": [
    "for playlist_title, playlist_tracks in playlists:\n",
    "    for track in playlist_tracks:\n",
    "        track.update({col: track_features_clean[track['track_uri']][col] for col in cols})"
   ]
  },
  {
   "cell_type": "code",
   "execution_count": 16,
   "metadata": {},
   "outputs": [],
   "source": [
    "json.dump(playlists, open('playlists.json', 'w'))"
   ]
  },
  {
   "cell_type": "markdown",
   "metadata": {},
   "source": [
    "## Get playlist dataframe"
   ]
  },
  {
   "cell_type": "code",
   "execution_count": 20,
   "metadata": {},
   "outputs": [],
   "source": [
    "playlists = json.load(open('playlists.json'))"
   ]
  },
  {
   "cell_type": "code",
   "execution_count": null,
   "metadata": {},
   "outputs": [],
   "source": [
    "def get_playlist_features(playlist_tracks):\n",
    "    features = [np.mean([track[col] for track in playlist_tracks]) for col in cols]\n",
    "    return features"
   ]
  },
  {
   "cell_type": "code",
   "execution_count": 23,
   "metadata": {},
   "outputs": [],
   "source": [
    "playlists_df = []\n",
    "for i, (playlist_title, playlist_tracks) in enumerate(playlists):\n",
    "    playlists_df.append([i, playlist_title, *get_playlist_features(playlist_tracks)])"
   ]
  },
  {
   "cell_type": "code",
   "execution_count": 24,
   "metadata": {},
   "outputs": [
    {
     "name": "stdout",
     "output_type": "stream",
     "text": [
      "('index', 2)\n",
      "('title', 'korean ')\n",
      "('danceability', 0.6710624999999999)\n",
      "('energy', 0.6929531250000001)\n",
      "('key', 5.0)\n",
      "('loudness', -4.87559375)\n",
      "('mode', 0.515625)\n",
      "('speechiness', 0.09642500000000001)\n",
      "('acousticness', 0.26910015624999994)\n",
      "('instrumentalness', 0.0006378121874999999)\n",
      "('liveness', 0.16889375)\n",
      "('valence', 0.5650781250000001)\n",
      "('tempo', 114.595984375)\n",
      "('duration_ms', 219373.953125)\n",
      "('time_signature', 4.0)\n"
     ]
    }
   ],
   "source": [
    "headers = ['index'] + ['title'] + cols\n",
    "\n",
    "print('\\n'.join(str(tuple((headers[i], playlists_df[2][i])))\n",
    "      for i in range(len(headers))))"
   ]
  },
  {
   "cell_type": "code",
   "execution_count": 25,
   "metadata": {},
   "outputs": [],
   "source": [
    "playlists_df = pd.DataFrame(playlists_df, columns=headers)"
   ]
  },
  {
   "cell_type": "code",
   "execution_count": 27,
   "metadata": {},
   "outputs": [],
   "source": [
    "playlists_df.to_csv('playlists.csv', index=False)"
   ]
  }
 ],
 "metadata": {
  "kernelspec": {
   "display_name": "Python 3",
   "language": "python",
   "name": "python3"
  },
  "language_info": {
   "codemirror_mode": {
    "name": "ipython",
    "version": 3
   },
   "file_extension": ".py",
   "mimetype": "text/x-python",
   "name": "python",
   "nbconvert_exporter": "python",
   "pygments_lexer": "ipython3",
   "version": "3.11.4"
  }
 },
 "nbformat": 4,
 "nbformat_minor": 2
}

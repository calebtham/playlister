{
 "cells": [
  {
   "cell_type": "code",
   "execution_count": 40,
   "metadata": {},
   "outputs": [],
   "source": [
    "# Read json file\n",
    "import json\n",
    "import numpy as np\n",
    "import requests\n",
    "import os\n",
    "import pandas as pd\n",
    "from sklearn import preprocessing\n",
    "from collections import Counter\n",
    "from sklearn.decomposition import PCA\n",
    "from sklearn.cluster import DBSCAN, KMeans\n",
    "from sklearn.metrics import silhouette_score, calinski_harabasz_score, davies_bouldin_score\n",
    "import matplotlib.pyplot as plt\n",
    "import warnings"
   ]
  },
  {
   "cell_type": "markdown",
   "metadata": {},
   "source": [
    "# Dataframe"
   ]
  },
  {
   "cell_type": "code",
   "execution_count": 41,
   "metadata": {},
   "outputs": [
    {
     "name": "stdout",
     "output_type": "stream",
     "text": [
      "['index', 'title', 'danceability', 'energy', 'loudness', 'mode', 'speechiness', 'acousticness', 'instrumentalness', 'liveness', 'valence', 'tempo', 'duration_ms', 'time_signature']\n"
     ]
    }
   ],
   "source": [
    "playlists_df = pd.read_csv('playlists.csv')\n",
    "playlists_df = playlists_df.drop(['key'], axis=1)\n",
    "\n",
    "# Train test split\n",
    "np.random.seed(42)\n",
    "msk = np.random.rand(len(playlists_df)) < 0.8\n",
    "playlists_df, test_playlists_df = playlists_df[msk], playlists_df[~msk]\n",
    "\n",
    "headers = playlists_df.columns.values.tolist()\n",
    "\n",
    "print(headers)"
   ]
  },
  {
   "cell_type": "code",
   "execution_count": 42,
   "metadata": {},
   "outputs": [],
   "source": [
    "mean = playlists_df[headers[2:]].mean(axis=0)\n",
    "std = playlists_df[headers[2:]].std(axis=0)\n",
    "\n",
    "playlists_df[headers[2:]] = (playlists_df[headers[2:]] - mean) / std\n",
    "test_playlists_df[headers[2:]] = (test_playlists_df[headers[2:]] - mean) / std"
   ]
  },
  {
   "cell_type": "code",
   "execution_count": 43,
   "metadata": {},
   "outputs": [],
   "source": [
    "playlists = json.load(open('playlists.json', 'r'))\n",
    "tracks = json.load(open('track_features.json', 'r'))"
   ]
  },
  {
   "cell_type": "markdown",
   "metadata": {},
   "source": [
    "# Clustering"
   ]
  },
  {
   "cell_type": "markdown",
   "metadata": {},
   "source": [
    "### K-means"
   ]
  },
  {
   "cell_type": "code",
   "execution_count": 44,
   "metadata": {},
   "outputs": [],
   "source": [
    "def get_cluster_tracks(playlists_df, cluster_preds, num_clusters, verbose=False):\n",
    "    global playlists, tracks\n",
    "    \n",
    "    playlists_clustered = playlists_df.get(['index', 'title']).copy()\n",
    "    playlists_clustered['cluster'] = cluster_preds\n",
    "\n",
    "    cluster_tracks = [{} for _ in range(num_clusters)]\n",
    "    for cluster in range(num_clusters):\n",
    "        for i in playlists_clustered[playlists_clustered['cluster'] == cluster]['index']:\n",
    "            for track in playlists[i][1]:\n",
    "                if track['track_uri'] not in cluster_tracks[cluster]:\n",
    "                    cluster_tracks[cluster][track['track_uri']] = track\n",
    "        cluster_tracks[cluster] = np.array(list(cluster_tracks[cluster].values()))\n",
    "\n",
    "        if verbose:\n",
    "            print('Cluster {}: {} tracks'.format(cluster, len(cluster_tracks[cluster])))\n",
    "\n",
    "    return cluster_tracks\n",
    "\n",
    "def cluster_custom_score(playlists_df, cluster_preds, num_clusters):\n",
    "    global tracks\n",
    "    \n",
    "    cluster_tracks = get_cluster_tracks(playlists_df, cluster_preds, num_clusters)\n",
    "\n",
    "    lengths = np.array([len(tracks) for tracks in cluster_tracks])\n",
    "\n",
    "    return np.sum(lengths) / len(tracks), \\\n",
    "        np.max(lengths) / len(tracks), \\\n",
    "        np.std(lengths) / np.mean(lengths)"
   ]
  },
  {
   "cell_type": "code",
   "execution_count": 45,
   "metadata": {},
   "outputs": [],
   "source": [
    "NUM_CLUSTERS = 15\n",
    "kmeans = KMeans(n_clusters=NUM_CLUSTERS, random_state=42, n_init='auto').fit(playlists_df[headers[2:]])"
   ]
  },
  {
   "cell_type": "code",
   "execution_count": 46,
   "metadata": {},
   "outputs": [],
   "source": [
    "# Group playlists by cluster\n",
    "playlists_df['cluster'] = kmeans.labels_\n",
    "playlists_clustered = playlists_df.get(['index', 'title', 'cluster'])"
   ]
  },
  {
   "cell_type": "code",
   "execution_count": 47,
   "metadata": {},
   "outputs": [
    {
     "name": "stdout",
     "output_type": "stream",
     "text": [
      "[('chill', 213), ('summer', 121), ('music', 83), ('good', 83), ('2017', 82), ('2016', 78), ('jams', 76), ('new', 70), ('songs', 64), ('playlist', 59)]\n",
      "[('christmas', 188), ('disney', 101), ('chill', 70), ('songs', 44), ('music', 43), ('the', 42), ('oldies', 34), ('sleep', 29), ('feels', 29), ('musicals', 23)]\n",
      "[('rap', 133), ('hop', 79), ('hip', 73), ('old', 59), ('school', 46), ('workout', 23), ('eminem', 22), ('the', 20), ('good', 19), ('throwback', 18)]\n",
      "[('chill', 40), ('jazz', 16), ('house', 15), ('good', 12), ('2016', 11), ('music', 10), ('the', 10), ('2015', 10), ('electronic', 9), ('study', 8)]\n",
      "[('classical', 57), ('music', 30), ('study', 29), ('instrumental', 19), ('piano', 16), ('sleep', 16), ('jazz', 13), ('the', 9), ('christmas', 9), ('of', 8)]\n",
      "[('rock', 166), ('workout', 113), ('edm', 69), ('music', 52), ('playlist', 41), ('my', 39), ('metal', 39), ('new', 31), ('songs', 31), ('gym', 29)]\n",
      "[('country', 754), ('rock', 142), ('summer', 131), ('songs', 76), ('music', 75), ('playlist', 74), ('good', 71), ('jams', 66), ('the', 56), ('new', 56)]\n",
      "[('chill', 157), ('songs', 86), ('love', 67), ('music', 66), ('the', 65), ('feels', 54), ('good', 53), ('worship', 50), ('new', 44), ('sad', 43)]\n",
      "[('sleep', 1)]\n",
      "[('party', 149), ('summer', 111), ('dance', 104), ('music', 90), ('throwback', 90), ('workout', 85), ('jams', 71), ('playlist', 71), ('songs', 68), ('good', 64)]\n",
      "[('banda', 20), ('corridos', 18), ('mexicano', 4), ('spanish', 3), ('ariel', 3), ('camacho', 3), ('❤️', 3), ('🇲🇽', 3), ('music', 3), ('julion', 2)]\n",
      "[('worship', 106), ('gospel', 26), ('music', 26), ('jesus', 26), ('christian', 19), ('praise', 17), ('songs', 12), ('rock', 7), ('jams', 7), ('playlist', 7)]\n",
      "[('oldies', 153), ('old', 88), ('country', 72), ('rock', 72), ('classic', 64), ('music', 48), ('the', 47), ('classics', 47), ('christmas', 47), ('good', 45)]\n",
      "[('sleep', 2), ('study', 1), ('sad', 1), ('songs', 1), ('meditation', 1), ('nature', 1), ('sounds:', 1), ('orchestra', 1), ('free', 1), ('white', 1)]\n",
      "[('rap', 181), ('lit', 109), ('party', 87), ('workout', 68), ('music', 66), ('new', 61), ('hype', 57), ('chill', 50), ('up', 47), ('playlist', 42)]\n"
     ]
    }
   ],
   "source": [
    "# Count most common titles\n",
    "def count_words(titles):\n",
    "    words = []\n",
    "    for title in titles:\n",
    "        title = str(title).strip().lower()\n",
    "        words += title.split(\" \")\n",
    "    return Counter(words)\n",
    "\n",
    "\n",
    "for i in range(NUM_CLUSTERS):\n",
    "    print(count_words(\n",
    "        playlists_clustered[playlists_clustered['cluster'] == i]['title'].values.tolist()).most_common(10))"
   ]
  },
  {
   "cell_type": "markdown",
   "metadata": {},
   "source": [
    "# Test data"
   ]
  },
  {
   "cell_type": "code",
   "execution_count": 48,
   "metadata": {},
   "outputs": [
    {
     "name": "stdout",
     "output_type": "stream",
     "text": [
      "[('chill', 56), ('summer', 30), ('2017', 27), ('new', 26), ('vibes', 22), ('good', 19), ('songs', 18), ('2016', 17), ('playlist', 15), ('music', 15)]\n",
      "[('christmas', 53), ('chill', 24), ('disney', 20), ('songs', 14), ('music', 11), ('sleep', 10), ('sad', 8), ('2017', 7), ('slow', 7), ('oldies', 6)]\n",
      "[('rap', 26), ('hop', 12), ('old', 12), ('hip', 11), ('school', 9), ('party', 7), ('throwback', 6), ('chill', 5), ('gym', 5), ('workout', 5)]\n",
      "[('chill', 8), ('house', 4), ('jazz', 4), ('2016', 4), ('playlist', 3), ('2017', 3), ('electronic', 3), ('summer', 3), ('2015', 3), ('music', 3)]\n",
      "[('study', 14), ('music', 11), ('classical', 10), ('instrumental', 6), ('sleep', 5), ('piano', 5), ('time', 4), ('the', 4), ('movie', 3), ('soundtracks', 3)]\n",
      "[('workout', 34), ('rock', 32), ('edm', 24), ('music', 13), ('mix', 12), ('songs', 12), ('punk', 8), ('up', 7), ('gym', 7), ('playlist', 7)]\n",
      "[('country', 182), ('rock', 37), ('summer', 31), ('good', 19), ('new', 17), ('music', 16), ('the', 16), ('playlist', 13), ('songs', 13), ('jams', 13)]\n",
      "[('chill', 38), ('songs', 20), ('love', 18), ('music', 13), ('country', 13), ('feels', 11), ('the', 11), ('sad', 11), ('2016', 11), ('playlist', 10)]\n",
      "[]\n",
      "[('party', 35), ('summer', 30), ('dance', 27), ('workout', 24), ('songs', 21), ('music', 19), ('throwback', 18), ('work', 18), ('throwbacks', 17), ('jams', 16)]\n",
      "[('corridos', 8), ('banda', 6), ('playlist', 2), ('waltz', 2), ('sierreño', 1), ('paisa', 1), ('👌👌👌', 1), ('canciones', 1), ('alma', 1), ('spanish', 1)]\n",
      "[('worship', 25), ('jesus', 7), ('christian', 7), ('music', 7), ('gospel', 7), ('church', 5), ('songs', 5), ('jams', 3), ('me', 2), ('playlist', 2)]\n",
      "[('oldies', 36), ('country', 20), ('rock', 18), ('classics', 18), ('old', 17), ('the', 15), ('good', 15), ('classic', 14), ('wedding', 13), ('playlist', 11)]\n",
      "[('orchestral', 1)]\n",
      "[('rap', 53), ('lit', 29), ('party', 24), ('workout', 20), ('playlist', 16), ('music', 15), ('summer', 14), ('up', 14), ('jams', 13), ('2017', 12)]\n"
     ]
    }
   ],
   "source": [
    "test_playlists_df['cluster'] = kmeans.predict(test_playlists_df[headers[2:]])\n",
    "test_playlists_clustered = test_playlists_df.get(['index', 'title', 'cluster'])\n",
    "\n",
    "for i in range(NUM_CLUSTERS):\n",
    "    print(count_words(\n",
    "        test_playlists_clustered[test_playlists_clustered['cluster'] == i]['title'].values.tolist()).most_common(10))"
   ]
  },
  {
   "cell_type": "markdown",
   "metadata": {},
   "source": [
    "# Get recommendations"
   ]
  },
  {
   "cell_type": "markdown",
   "metadata": {},
   "source": [
    "Using the k-means cluster (on test playlists)"
   ]
  },
  {
   "cell_type": "code",
   "execution_count": 49,
   "metadata": {},
   "outputs": [],
   "source": [
    "cluster_tracks = get_cluster_tracks(playlists_df, playlists_df['cluster'], NUM_CLUSTERS)"
   ]
  },
  {
   "cell_type": "code",
   "execution_count": 50,
   "metadata": {},
   "outputs": [],
   "source": [
    "cols = ['danceability', 'energy', 'loudness', 'mode', 'speechiness',\n",
    "        'acousticness', 'instrumentalness', 'liveness', 'valence', 'tempo',\n",
    "        'duration_ms', 'time_signature']\n",
    "\n",
    "def get_playlist_features(playlist_tracks, mean=mean, std=std):\n",
    "    features = [np.mean([track[col] for track in playlist_tracks]) for col in cols]\n",
    "    return np.array((features - mean) / std)\n",
    "\n",
    "def get_track_info(tracks):\n",
    "    return np.array([[s['artist_name'], s['track_name']] for s in tracks])\n",
    "\n",
    "def get_track_features(tracks, mean=mean, std=std):\n",
    "    features = np.array([[s[col] for col in cols] for s in tracks])\n",
    "    return np.array((features - np.array(mean)) / np.array(std))\n",
    "\n",
    "pretty_print = lambda x: \"{} - {}\".format(x[0], x[1])"
   ]
  },
  {
   "cell_type": "markdown",
   "metadata": {},
   "source": [
    "Accuracy of clustering"
   ]
  },
  {
   "cell_type": "code",
   "execution_count": 51,
   "metadata": {},
   "outputs": [
    {
     "name": "stdout",
     "output_type": "stream",
     "text": [
      "Accuracy by clustering using only 50.0% of the playlist: 79.73%\n"
     ]
    }
   ],
   "source": [
    "PART_PERCENT = 0.5 # Percentage of playlist to use for clustering\n",
    "\n",
    "count = 0\n",
    "for test_i in range(len(test_playlists_df)):\n",
    "    i = test_playlists_df.iloc[test_i]['index']\n",
    "\n",
    "    playlist_tracks = playlists[i][1]\n",
    "    np.random.shuffle(playlist_tracks) # Shuffle tracks - improved accuracy\n",
    "\n",
    "    playlist_part_features = get_playlist_features(\n",
    "        playlist_tracks[:int(len(playlist_tracks) * PART_PERCENT)])\n",
    "\n",
    "    playlist_features = np.array(test_playlists_df.iloc[test_i][headers[2:]].values, dtype='float32')\n",
    "\n",
    "    with warnings.catch_warnings():\n",
    "        warnings.simplefilter(\"ignore\")\n",
    "        real_cluster = kmeans.predict([playlist_features])[0]\n",
    "        part_cluster = kmeans.predict([playlist_part_features])[0]\n",
    "\n",
    "    count += 1 if real_cluster == part_cluster else 0\n",
    "\n",
    "print('Accuracy by clustering using only {}% of the playlist: {:.2f}%'.format(\n",
    "    PART_PERCENT*100, 100*count / len(test_playlists_df)))"
   ]
  },
  {
   "cell_type": "markdown",
   "metadata": {},
   "source": [
    "Sample random playlist (from test)"
   ]
  },
  {
   "cell_type": "code",
   "execution_count": 73,
   "metadata": {},
   "outputs": [
    {
     "name": "stdout",
     "output_type": "stream",
     "text": [
      "Playlist name: Slow jamz\n",
      "Number of tracks: 127\n",
      "Real cluster: 9\n",
      "Part cluster: 9\n",
      "Tracks: \n",
      "Jay Sean - Down\n",
      "Kanye West - Gold Digger\n",
      "Plies - Put It On Ya (feat. Chris J)\n",
      "T.I. - Dead And Gone (feat. Justin Timberlake)\n",
      "The-Dream - IV Play\n",
      "David Guetta - Nothing Really Matters (feat. will.i.am) - feat. will.i.am\n",
      "Kanye West - Dark Fantasy\n",
      "Hunter Hayes - I Want Crazy - Encore\n",
      "B.o.B - So Hard To Breathe\n",
      "Alicia Keys - New Day\n"
     ]
    }
   ],
   "source": [
    "test_i = np.random.randint(len(test_playlists_df))\n",
    "i = test_playlists_df.iloc[test_i]['index']\n",
    "\n",
    "playlist_name = playlists[i][0]\n",
    "playlist_tracks = playlists[i][1]\n",
    "np.random.shuffle(playlist_tracks)\n",
    "\n",
    "playlist_part_tracks = playlist_tracks[:int(len(playlists[i][1]) * PART_PERCENT)]\n",
    "\n",
    "playlist_part_features = get_playlist_features(playlist_part_tracks)\n",
    "\n",
    "playlist_features = np.array(test_playlists_df.iloc[test_i][headers[2:]].values, dtype='float32')\n",
    "\n",
    "num_tracks = len(playlists[i][1])\n",
    "\n",
    "with warnings.catch_warnings():\n",
    "    warnings.simplefilter(\"ignore\")\n",
    "    real_cluster = kmeans.predict([playlist_features])[0]\n",
    "    part_cluster = kmeans.predict([playlist_part_features])[0]\n",
    "\n",
    "tracks_in_cluster = cluster_tracks[part_cluster]\n",
    "tracks_info = get_track_info(tracks_in_cluster)\n",
    "track_features = get_track_features(tracks_in_cluster)\n",
    "\n",
    "print(\"Playlist name: {}\".format(playlist_name))\n",
    "print(\"Number of tracks: {}\".format(num_tracks))\n",
    "print(\"Real cluster: {}\".format(real_cluster))\n",
    "print(\"Part cluster: {}\".format(part_cluster))\n",
    "print(\"Tracks: \")\n",
    "\n",
    "print('\\n'.join(map(pretty_print, get_track_info(playlist_tracks[:10]))))"
   ]
  },
  {
   "cell_type": "code",
   "execution_count": 74,
   "metadata": {},
   "outputs": [],
   "source": [
    "def k_nn(k, needle_features, haystack_features):\n",
    "    \"\"\"\n",
    "    Given an instance of features, find the k nearest neighbors in the haystack. \n",
    "    Return indexes within haystack.\n",
    "    \"\"\"\n",
    "    distances = np.linalg.norm(needle_features - haystack_features, axis=1)\n",
    "    return np.argsort(distances)[:k]"
   ]
  },
  {
   "cell_type": "markdown",
   "metadata": {},
   "source": [
    "K-nn to find nearest playlist (then randomly sample tracks)"
   ]
  },
  {
   "cell_type": "code",
   "execution_count": 75,
   "metadata": {},
   "outputs": [
    {
     "name": "stdout",
     "output_type": "stream",
     "text": [
      "Playlist name: summer feels\n",
      "Number of tracks: 70\n",
      "Tracks: \n",
      "J. Cole - No Role Modelz\n",
      "Circa Waves - T-Shirt Weather\n",
      "Childish Gambino - IV. sweatpants\n",
      "Red Hot Chili Peppers - Dani California\n",
      "Sage The Gemini - Now and Later\n",
      "Fall Out Boy - Thnks fr th Mmrs\n",
      "K.Flay - FML\n",
      "K.Flay - Make Me Fade\n",
      "Aer - Floats My Boat\n",
      "MGMT - Electric Feel\n"
     ]
    }
   ],
   "source": [
    "# playlists within a cluster\n",
    "haystack_playlists = playlists_df[playlists_df['cluster'] == part_cluster]\n",
    "haystack_features = haystack_playlists[headers[2:]].values\n",
    "\n",
    "i = k_nn(10, playlist_part_features, haystack_features)[0]\n",
    "pred_playlist = haystack_playlists.iloc[i]\n",
    "\n",
    "i = pred_playlist['index']\n",
    "\n",
    "pred_playlist_name = playlists[i][0]\n",
    "pred_playlist_tracks = playlists[i][1]\n",
    "np.random.shuffle(pred_playlist_tracks)\n",
    "pred_num_tracks = len(playlists[i][1])\n",
    "\n",
    "print(\"Playlist name: {}\".format(pred_playlist_name))\n",
    "print(\"Number of tracks: {}\".format(pred_num_tracks))\n",
    "print(\"Tracks: \")\n",
    "\n",
    "print('\\n'.join(map(pretty_print, get_track_info(pred_playlist_tracks[:10]))))"
   ]
  },
  {
   "cell_type": "markdown",
   "metadata": {},
   "source": [
    "K-NN to find tracks nearest to playlist aggregate features"
   ]
  },
  {
   "cell_type": "code",
   "execution_count": 76,
   "metadata": {},
   "outputs": [
    {
     "name": "stdout",
     "output_type": "stream",
     "text": [
      "Playlist part feature predictions: \n",
      "French Montana - Unforgettable - Tiësto vs. Dzeko AFTR:HRS Remix\n",
      "Selena Gomez - Fetish (feat. Gucci Mane) - Galantis Remix\n",
      "Lucy Woodward - He Got Away\n",
      "Victor Muñoz - Mi Felicidad\n",
      "Jennifer Hudson - Where You At\n",
      "ODESZA - Late Night\n",
      "Madonna - Living For Love\n",
      "Rudimental - Lay It All On Me (feat. Ed Sheeran)\n",
      "Glee Cast - Born This Way (Glee Cast Version)\n",
      "Cobra Starship - #1Nite [One Night]\n",
      "\n"
     ]
    }
   ],
   "source": [
    "playlist_part_features_pred = [tracks_info[i] for i in k_nn(10, playlist_part_features, track_features)]\n",
    "print(\"Playlist part feature predictions: \\n{}\\n\".format(\"\\n\".join(map(pretty_print, playlist_part_features_pred))))\n",
    "\n",
    "# playlist_features_pred = [tracks_info[i] for i in k_nn(10, playlist_features, track_features)]\n",
    "# print(\"Playlist feature predictions: \\n{}\".format(\"\\n\".join(map(pretty_print, playlist_features_pred))))"
   ]
  },
  {
   "cell_type": "markdown",
   "metadata": {},
   "source": [
    "K-NN to find tracks nearest to random tracks in playlist"
   ]
  },
  {
   "cell_type": "code",
   "execution_count": 77,
   "metadata": {},
   "outputs": [
    {
     "name": "stdout",
     "output_type": "stream",
     "text": [
      "Chris Brown - Love More ->\n",
      "\tGhostface Killah - Cherchez LaGhost\n",
      "Pitbull - International Love ->\n",
      "\tMadden - Golden Light (feat. 6AM)\n",
      "Plies - Put It On Ya (feat. Chris J) ->\n",
      "\tJawga Boyz - Mudjug (Dip In My Lip)\n",
      "Kelly Clarkson - My Life Would Suck Without You ->\n",
      "\tBig Time Rush - Halfway There\n",
      "Missez - Love Song ->\n",
      "\tMeek Mill - Bad For You (feat. Nicki Minaj)\n",
      "Jordin Sparks - Tattoo ->\n",
      "\tLeona Lewis - Better in Time\n",
      "Hurricane Chris - Headboard ->\n",
      "\tGirl Talk - What It's All About\n",
      "Miguel - Pussy is Mine ->\n",
      "\tManu Chao - El viento\n",
      "Mobb Deep - Give It To Me ->\n",
      "\tYou Without Me - One Less Problem\n",
      "Kanye West - Touch The Sky ->\n",
      "\tKanye West - Drive Slow\n"
     ]
    }
   ],
   "source": [
    "random_tracks = np.random.choice(playlist_part_tracks, 10, replace=False)\n",
    "\n",
    "random_tracks_info = get_track_info(random_tracks)\n",
    "random_track_features = get_track_features(random_tracks)\n",
    "\n",
    "random_tracks_pred = []\n",
    "for features in random_track_features:\n",
    "    random_tracks_pred.append(tracks_info[k_nn(2, features, track_features)[1]])\n",
    "\n",
    "for random_track, random_track_pred in zip(random_tracks_info, random_tracks_pred):\n",
    "    print(\"{} ->\\n\\t{}\".format(pretty_print(random_track), pretty_print(random_track_pred)))"
   ]
  }
 ],
 "metadata": {
  "kernelspec": {
   "display_name": "venv",
   "language": "python",
   "name": "python3"
  },
  "language_info": {
   "codemirror_mode": {
    "name": "ipython",
    "version": 3
   },
   "file_extension": ".py",
   "mimetype": "text/x-python",
   "name": "python",
   "nbconvert_exporter": "python",
   "pygments_lexer": "ipython3",
   "version": "3.11.4"
  }
 },
 "nbformat": 4,
 "nbformat_minor": 2
}
